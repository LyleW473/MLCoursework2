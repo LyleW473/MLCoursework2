{
 "cells": [
  {
   "cell_type": "code",
   "execution_count": 1,
   "metadata": {},
   "outputs": [
    {
     "ename": "ImportError",
     "evalue": "cannot import name 'get_transform_v2' from 'src.training.transforms' (c:\\Users\\wlyle\\Desktop\\MLCoursework2\\src\\training\\transforms.py)",
     "output_type": "error",
     "traceback": [
      "\u001b[31m---------------------------------------------------------------------------\u001b[39m",
      "\u001b[31mImportError\u001b[39m                               Traceback (most recent call last)",
      "\u001b[36mCell\u001b[39m\u001b[36m \u001b[39m\u001b[32mIn[1]\u001b[39m\u001b[32m, line 9\u001b[39m\n\u001b[32m      6\u001b[39m \u001b[38;5;28;01mimport\u001b[39;00m\u001b[38;5;250m \u001b[39m\u001b[34;01mrandom\u001b[39;00m\n\u001b[32m      8\u001b[39m \u001b[38;5;28;01mfrom\u001b[39;00m\u001b[38;5;250m \u001b[39m\u001b[34;01msrc\u001b[39;00m\u001b[34;01m.\u001b[39;00m\u001b[34;01mtraining\u001b[39;00m\u001b[34;01m.\u001b[39;00m\u001b[34;01mpipeline\u001b[39;00m\u001b[38;5;250m \u001b[39m\u001b[38;5;28;01mimport\u001b[39;00m LinearEvalPipeline\n\u001b[32m----> \u001b[39m\u001b[32m9\u001b[39m \u001b[38;5;28;01mfrom\u001b[39;00m\u001b[38;5;250m \u001b[39m\u001b[34;01msrc\u001b[39;00m\u001b[34;01m.\u001b[39;00m\u001b[34;01mtraining\u001b[39;00m\u001b[34;01m.\u001b[39;00m\u001b[34;01mtransforms\u001b[39;00m\u001b[38;5;250m \u001b[39m\u001b[38;5;28;01mimport\u001b[39;00m get_transform, get_transform_v2\n",
      "\u001b[31mImportError\u001b[39m: cannot import name 'get_transform_v2' from 'src.training.transforms' (c:\\Users\\wlyle\\Desktop\\MLCoursework2\\src\\training\\transforms.py)"
     ]
    }
   ],
   "source": [
    "import torch\n",
    "import os\n",
    "import matplotlib.pyplot as plt\n",
    "import numpy as np\n",
    "import pickle\n",
    "import random\n",
    "\n",
    "from src.training.pipeline import LinearEvalPipeline"
   ]
  },
  {
   "cell_type": "code",
   "execution_count": null,
   "metadata": {},
   "outputs": [],
   "source": [
    "DEVICE = torch.device(\"cuda:0\" if torch.cuda.is_available() else \"cpu\")\n",
    "\n",
    "TRAINING_SETTINGS = {\n",
    "                    \"batch_size\": 4,\n",
    "                    \"lr\": 0.025 * 100, # Multiplied by 100, as in paper\n",
    "                    \"momentum\": 0.9,\n",
    "                    \"use_nesterov\": True,\n",
    "                    \"n_epochs\": 100,\n",
    "                    \"print_interval\": 1000\n",
    "                    }\n",
    "MODEL_SAVE_DIR = \"linear_eval_models\"\n",
    "CLASSES = (\"plane\", \"car\", \"bird\", \"cat\", \"deer\", \"dog\", \"frog\", \"horse\", \"ship\", \"truck\")"
   ]
  },
  {
   "cell_type": "code",
   "execution_count": null,
   "metadata": {},
   "outputs": [],
   "source": [
    "\n",
    "pipeline = LinearEvalPipeline(\n",
    "                                training_settings=TRAINING_SETTINGS,\n",
    "                                classes=CLASSES,\n",
    "                                transform=None,\n",
    "                                device=DEVICE\n",
    "                                )"
   ]
  },
  {
   "cell_type": "code",
   "execution_count": null,
   "metadata": {},
   "outputs": [],
   "source": [
    "# Load active learning embeddings and build dataset\n",
    "version = \"typiclust\"\n",
    "setting = \"top\"\n",
    "\n",
    "variations = [\n",
    "    {\"version\": \"typiclust\", \"setting\": \"top\"},\n",
    "    {\"version\": \"typiclust\", \"setting\": \"bottom\"},\n",
    "    {\"version\": \"random\", \"setting\": \"top\"},\n",
    "    {\"version\": \"random\", \"setting\": \"bottom\"}\n",
    "    ]\n",
    "\n",
    "directories = os.listdir(f\"embeddings/{version}/{setting}\")\n",
    "\n",
    "all_embeddings_dirs = [f\"embeddings/{version}/{setting}/{directory}\" for directory in directories]\n",
    "\n",
    "# all_images, all_labels, _ = load_active_learning_embeddings(embeddings_dir)"
   ]
  },
  {
   "cell_type": "code",
   "execution_count": null,
   "metadata": {},
   "outputs": [],
   "source": [
    "for variation in variations:\n",
    "    version = variation[\"version\"]\n",
    "    setting = variation[\"setting\"]\n",
    "\n",
    "    directories = os.listdir(f\"embeddings/{version}/{setting}\")\n",
    "    all_embeddings_dirs = [f\"embeddings/{version}/{setting}/{directory}\" for directory in directories]\n",
    "\n",
    "    for embeddings_dir in all_embeddings_dirs:\n",
    "        # Re-initialise seeds for reproducibility\n",
    "        torch.manual_seed(2004)\n",
    "        random.seed(2004)\n",
    "        np.random.seed(2004)\n",
    "\n",
    "        # Complete a training run\n",
    "        print(f\"Executing for version: {version}, setting: {setting} and embeddings_dir: {embeddings_dir}\")\n",
    "        pipeline.execute(version=version, setting=setting, embeddings_dir=embeddings_dir)"
   ]
  }
 ],
 "metadata": {
  "kernelspec": {
   "display_name": ".venv",
   "language": "python",
   "name": "python3"
  },
  "language_info": {
   "codemirror_mode": {
    "name": "ipython",
    "version": 3
   },
   "file_extension": ".py",
   "mimetype": "text/x-python",
   "name": "python",
   "nbconvert_exporter": "python",
   "pygments_lexer": "ipython3",
   "version": "3.11.9"
  }
 },
 "nbformat": 4,
 "nbformat_minor": 2
}
