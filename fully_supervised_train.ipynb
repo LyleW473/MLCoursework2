{
 "cells": [
  {
   "cell_type": "code",
   "execution_count": null,
   "metadata": {},
   "outputs": [],
   "source": [
    "import torch\n",
    "import os\n",
    "import matplotlib.pyplot as plt\n",
    "import numpy as np\n",
    "import pickle\n",
    "import random\n",
    "\n",
    "from src.training.pipeline import TrainingPipeline\n",
    "from src.training.transforms import get_transform"
   ]
  },
  {
   "cell_type": "code",
   "execution_count": null,
   "metadata": {},
   "outputs": [],
   "source": [
    "torch.manual_seed(2004)\n",
    "random.seed(2004)\n",
    "np.random.seed(2004)"
   ]
  },
  {
   "cell_type": "code",
   "execution_count": null,
   "metadata": {},
   "outputs": [],
   "source": [
    "DEVICE = torch.device(\"cuda:0\" if torch.cuda.is_available() else \"cpu\")\n",
    "\n",
    "TRAINING_SETTINGS = {\n",
    "                    \"batch_size\": 4,\n",
    "                    \"lr\": 0.025,\n",
    "                    \"momentum\": 0.9,\n",
    "                    \"use_nesterov\": True,\n",
    "                    \"n_epochs\": 100,\n",
    "                    \"print_interval\": 1000\n",
    "                    }\n",
    "MODEL_SAVE_DIR = \"models\"\n",
    "CLASSES = (\"plane\", \"car\", \"bird\", \"cat\", \"deer\", \"dog\", \"frog\", \"horse\", \"ship\", \"truck\")"
   ]
  },
  {
   "cell_type": "code",
   "execution_count": null,
   "metadata": {},
   "outputs": [],
   "source": [
    "\n",
    "pipeline = TrainingPipeline(\n",
    "                            training_settings=TRAINING_SETTINGS,\n",
    "                            classes=CLASSES,\n",
    "                            transform=get_transform(),\n",
    "                            device=DEVICE\n",
    "                            )"
   ]
  },
  {
   "cell_type": "code",
   "execution_count": null,
   "metadata": {},
   "outputs": [],
   "source": [
    "# Load active learning embeddings and build dataset\n",
    "version = \"typiclust\"\n",
    "setting = \"top\"\n",
    "\n",
    "variations = [\n",
    "    {\"version\": \"typiclust\", \"setting\": \"top\"},\n",
    "    {\"version\": \"typiclust\", \"setting\": \"bottom\"},\n",
    "    {\"version\": \"random\", \"setting\": \"top\"},\n",
    "    {\"version\": \"random\", \"setting\": \"bottom\"}\n",
    "    ]\n",
    "\n",
    "directories = os.listdir(f\"embeddings/{version}/{setting}\")\n",
    "\n",
    "all_embeddings_dirs = [f\"embeddings/{version}/{setting}/{directory}\" for directory in directories]\n",
    "\n",
    "# all_images, all_labels, _ = load_active_learning_embeddings(embeddings_dir)"
   ]
  },
  {
   "cell_type": "code",
   "execution_count": null,
   "metadata": {},
   "outputs": [],
   "source": [
    "for variation in variations:\n",
    "    version = variation[\"version\"]\n",
    "    setting = variation[\"setting\"]\n",
    "\n",
    "    directories = os.listdir(f\"embeddings/{version}/{setting}\")\n",
    "    all_embeddings_dirs = [f\"embeddings/{version}/{setting}/{directory}\" for directory in directories]\n",
    "\n",
    "    for embeddings_dir in all_embeddings_dirs:\n",
    "        print(f\"Executing for version: {version}, setting: {setting} and embeddings_dir: {embeddings_dir}\")\n",
    "        pipeline.execute(version=version, setting=setting, embeddings_dir=embeddings_dir)"
   ]
  },
  {
   "cell_type": "code",
   "execution_count": null,
   "metadata": {},
   "outputs": [],
   "source": [
    "raise NotImplementedError(\"This is not finished yet\")"
   ]
  },
  {
   "cell_type": "code",
   "execution_count": null,
   "metadata": {},
   "outputs": [],
   "source": [
    "# def count_instances_per_class(labels):\n",
    "#     class_counts = defaultdict(int)\n",
    "#     for label in labels:\n",
    "#         class_counts[CLASSES[label.item()]] += 1\n",
    "#     for c_class in CLASSES:\n",
    "#         if c_class not in class_counts:\n",
    "#             class_counts[c_class] = 0\n",
    "#     return dict(class_counts)\n",
    "\n",
    "# def print_class_counts(class_counts, labels):\n",
    "#     for c_class, count in class_counts.items():\n",
    "#         print(f\"Class: {c_class} | Count: {count} | Percentage: {count / len(labels) * 100:.5f}%\")"
   ]
  },
  {
   "cell_type": "code",
   "execution_count": null,
   "metadata": {},
   "outputs": [],
   "source": [
    "# train_class_counts = count_instances_per_class(train_labels)\n",
    "# val_class_counts = count_instances_per_class(val_labels)\n",
    "\n",
    "# print(\"Training class counts:\")\n",
    "# print_class_counts(train_class_counts, train_labels)\n",
    "# print(\"\\n\")\n",
    "\n",
    "# print(\"Validation class counts:\")\n",
    "# print_class_counts(val_class_counts, val_labels)"
   ]
  },
  {
   "cell_type": "code",
   "execution_count": null,
   "metadata": {},
   "outputs": [],
   "source": [
    "# data = train_dl.__iter__().__next__()\n",
    "# images, labels = data\n",
    "# print(images.shape, labels.shape)"
   ]
  },
  {
   "cell_type": "code",
   "execution_count": null,
   "metadata": {},
   "outputs": [],
   "source": [
    "# def imshow(img):\n",
    "#     img = img / 2 + 0.5 # Unnormalize\n",
    "#     np_img = img.numpy()\n",
    "#     plt.imshow(np.transpose(np_img, (1, 2, 0)))\n",
    "#     plt.show()\n",
    "\n",
    "# data_iter = iter(train_dl)\n",
    "# images, labels = next(data_iter)\n",
    "\n",
    "# imshow(torchvision.utils.make_grid(images))\n",
    "# print(\" \".join(f\"{CLASSES[labels[j]]:5s}\" for j in range(BATCH_SIZE)))"
   ]
  }
 ],
 "metadata": {
  "kernelspec": {
   "display_name": ".venv",
   "language": "python",
   "name": "python3"
  },
  "language_info": {
   "codemirror_mode": {
    "name": "ipython",
    "version": 3
   },
   "file_extension": ".py",
   "mimetype": "text/x-python",
   "name": "python",
   "nbconvert_exporter": "python",
   "pygments_lexer": "ipython3",
   "version": "3.11.9"
  }
 },
 "nbformat": 4,
 "nbformat_minor": 2
}
