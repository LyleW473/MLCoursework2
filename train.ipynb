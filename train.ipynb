{
 "cells": [
  {
   "cell_type": "code",
   "execution_count": 1,
   "metadata": {},
   "outputs": [],
   "source": [
    "import torch\n",
    "import torchvision\n",
    "import torchvision.transforms as transforms\n",
    "import torch.nn as nn\n",
    "import torch.nn.functional as F\n",
    "import torch.optim as optim\n",
    "import os\n",
    "import matplotlib.pyplot as plt\n",
    "import numpy as np\n",
    "import pickle"
   ]
  },
  {
   "cell_type": "code",
   "execution_count": 2,
   "metadata": {},
   "outputs": [],
   "source": [
    "BATCH_SIZE = 1\n",
    "LR = 0.001\n",
    "MOMENTUM = 0.9\n",
    "EPOCHS = 4\n",
    "DEVICE = torch.device(\"cuda:0\" if torch.cuda.is_available() else \"cpu\")\n",
    "PRINT_INTERVAL = 1000\n",
    "\n",
    "MODEL_SAVE_DIR = \"models\""
   ]
  },
  {
   "cell_type": "code",
   "execution_count": 3,
   "metadata": {},
   "outputs": [
    {
     "name": "stdout",
     "output_type": "stream",
     "text": [
      "Embeddings shape: 4754\n"
     ]
    }
   ],
   "source": [
    "transform = transforms.Compose(\n",
    "    [\n",
    "        transforms.ToTensor(),\n",
    "        transforms.Normalize((0.5, 0.5, 0.5), (0.5, 0.5, 0.5))\n",
    "    ]\n",
    ")\n",
    "\n",
    "if not os.path.exists(\"embeddings/active_learning_embeddings.pkl\"):\n",
    "    raise ValueError(\"Please run eval_sim_clr.py first to generate embeddings for active learning\")\n",
    "with open(\"embeddings/active_learning_embeddings.pkl\", \"rb\") as f:\n",
    "    active_learning_embeddings = pickle.load(f)\n",
    "\n",
    "print(\"Embeddings shape:\", len(active_learning_embeddings))\n",
    "\n",
    "all_images = []\n",
    "all_labels = []\n",
    "\n",
    "for key, value_dict in active_learning_embeddings.items():\n",
    "    all_images.append(value_dict[\"image\"])\n",
    "    all_labels.append(value_dict[\"label\"])\n",
    "\n",
    "train_set = torchvision.datasets.CIFAR10(root=\"./data\", train=True, download=True, transform=transform)\n",
    "train_dl = torch.utils.data.DataLoader(train_set, batch_size=BATCH_SIZE, shuffle=True, num_workers=2)\n",
    "test_set = torchvision.datasets.CIFAR10(root=\"./data\", train=False, download=True, transform=transform)\n",
    "test_dl = torch.utils.data.DataLoader(test_set, batch_size=BATCH_SIZE, shuffle=False, num_workers=2)\n",
    "\n",
    "classes = (\"plane\", \"car\", \"bird\", \"cat\", \"deer\", \"dog\", \"frog\", \"horse\", \"ship\", \"truck\")"
   ]
  },
  {
   "cell_type": "code",
   "execution_count": 4,
   "metadata": {},
   "outputs": [
    {
     "name": "stdout",
     "output_type": "stream",
     "text": [
      "50000\n",
      "10000\n"
     ]
    }
   ],
   "source": [
    "print(len(train_dl))\n",
    "print(len(test_dl))"
   ]
  },
  {
   "cell_type": "code",
   "execution_count": 5,
   "metadata": {},
   "outputs": [
    {
     "data": {
      "image/png": "[encoded data removed]",
      "text/plain": [
       "<Figure size 640x480 with 1 Axes>"
      ]
     },
     "metadata": {},
     "output_type": "display_data"
    },
    {
     "name": "stdout",
     "output_type": "stream",
     "text": [
      "car  \n"
     ]
    }
   ],
   "source": [
    "def imshow(img):\n",
    "    img = img / 2 + 0.5 # Unnormalize\n",
    "    np_img = img.numpy()\n",
    "    plt.imshow(np.transpose(np_img, (1, 2, 0)))\n",
    "    plt.show()\n",
    "\n",
    "data_iter = iter(train_dl)\n",
    "images, labels = next(data_iter)\n",
    "\n",
    "imshow(torchvision.utils.make_grid(images))\n",
    "print(\" \".join(f\"{classes[labels[j]]:5s}\" for j in range(BATCH_SIZE)))"
   ]
  },
  {
   "cell_type": "code",
   "execution_count": 6,
   "metadata": {},
   "outputs": [],
   "source": [
    "class BaseNet(nn.Module):\n",
    "    def __init__(self):\n",
    "        super().__init__()\n",
    "        self.conv1 = nn.Conv2d(3, 6, 5)\n",
    "        self.pool = nn.MaxPool2d(2, 2)\n",
    "        self.conv2 = nn.Conv2d(6, 16, 5)\n",
    "        self.fc1 = nn.Linear(16 * 5 * 5, 120)\n",
    "        self.fc2 = nn.Linear(120, 84)\n",
    "        self.fc3 = nn.Linear(84, 10)\n",
    "\n",
    "    def forward(self, x):\n",
    "        x = self.pool(F.relu(self.conv1(x)))\n",
    "        x = self.pool(F.relu(self.conv2(x)))\n",
    "        x = torch.flatten(x, 1) # Flatten all dimensions except batch\n",
    "        x = F.relu(self.fc1(x))\n",
    "        x = F.relu(self.fc2(x))\n",
    "        x = self.fc3(x)\n",
    "        return x"
   ]
  },
  {
   "cell_type": "code",
   "execution_count": 7,
   "metadata": {},
   "outputs": [
    {
     "data": {
      "text/plain": [
       "BaseNet(\n",
       "  (conv1): Conv2d(3, 6, kernel_size=(5, 5), stride=(1, 1))\n",
       "  (pool): MaxPool2d(kernel_size=2, stride=2, padding=0, dilation=1, ceil_mode=False)\n",
       "  (conv2): Conv2d(6, 16, kernel_size=(5, 5), stride=(1, 1))\n",
       "  (fc1): Linear(in_features=400, out_features=120, bias=True)\n",
       "  (fc2): Linear(in_features=120, out_features=84, bias=True)\n",
       "  (fc3): Linear(in_features=84, out_features=10, bias=True)\n",
       ")"
      ]
     },
     "execution_count": 7,
     "metadata": {},
     "output_type": "execute_result"
    }
   ],
   "source": [
    "model = BaseNet()\n",
    "model.to(DEVICE)"
   ]
  },
  {
   "cell_type": "code",
   "execution_count": 8,
   "metadata": {},
   "outputs": [],
   "source": [
    "criterion = nn.CrossEntropyLoss()\n",
    "optimiser = optim.SGD(model.parameters(), lr=LR, momentum=MOMENTUM)"
   ]
  },
  {
   "cell_type": "code",
   "execution_count": 9,
   "metadata": {},
   "outputs": [
    {
     "name": "stdout",
     "output_type": "stream",
     "text": [
      "50000 10000\n"
     ]
    }
   ],
   "source": [
    "print(len(train_dl), len(test_dl))"
   ]
  },
  {
   "cell_type": "code",
   "execution_count": 10,
   "metadata": {},
   "outputs": [],
   "source": [
    "num_train_batches = len(train_dl)"
   ]
  },
  {
   "cell_type": "code",
   "execution_count": 11,
   "metadata": {},
   "outputs": [
    {
     "name": "stdout",
     "output_type": "stream",
     "text": [
      "Epoch: 1 |  Batch: 1000/50000 | Loss: 2.3015377395153047\n",
      "Epoch: 1 |  Batch: 2000/50000 | Loss: 2.2327266931422054\n",
      "Epoch: 1 |  Batch: 3000/50000 | Loss: 2.1771197909836966\n",
      "Epoch: 1 |  Batch: 4000/50000 | Loss: 2.142573584737256\n",
      "Epoch: 1 |  Batch: 5000/50000 | Loss: 2.0983941330984233\n",
      "Epoch: 1 |  Batch: 6000/50000 | Loss: 2.0613497366818287\n",
      "Epoch: 1 |  Batch: 7000/50000 | Loss: 2.0317407704432098\n",
      "Epoch: 1 |  Batch: 8000/50000 | Loss: 2.011109091749415\n",
      "Epoch: 1 |  Batch: 9000/50000 | Loss: 1.984298788867063\n",
      "Epoch: 1 |  Batch: 10000/50000 | Loss: 1.9598074453365057\n",
      "Epoch: 1 |  Batch: 11000/50000 | Loss: 1.9433768493753265\n",
      "Epoch: 1 |  Batch: 12000/50000 | Loss: 1.920784332706593\n",
      "Epoch: 1 |  Batch: 13000/50000 | Loss: 1.901118392692449\n",
      "Epoch: 1 |  Batch: 14000/50000 | Loss: 1.8874020495789925\n",
      "Epoch: 1 |  Batch: 15000/50000 | Loss: 1.871616211743746\n",
      "Epoch: 1 |  Batch: 16000/50000 | Loss: 1.8575604973305744\n",
      "Epoch: 1 |  Batch: 17000/50000 | Loss: 1.8467594948969919\n",
      "Epoch: 1 |  Batch: 18000/50000 | Loss: 1.8358066748071384\n",
      "Epoch: 1 |  Batch: 19000/50000 | Loss: 1.8261542449147121\n",
      "Epoch: 1 |  Batch: 20000/50000 | Loss: 1.815437470201042\n",
      "Epoch: 1 |  Batch: 21000/50000 | Loss: 1.8090175009981972\n",
      "Epoch: 1 |  Batch: 22000/50000 | Loss: 1.802219962344071\n",
      "Epoch: 1 |  Batch: 23000/50000 | Loss: 1.7918421625871004\n",
      "Epoch: 1 |  Batch: 24000/50000 | Loss: 1.7861470424443906\n",
      "Epoch: 1 |  Batch: 25000/50000 | Loss: 1.7800261631283607\n",
      "Epoch: 1 |  Batch: 26000/50000 | Loss: 1.772233810521651\n",
      "Epoch: 1 |  Batch: 27000/50000 | Loss: 1.7662133582937252\n",
      "Epoch: 1 |  Batch: 28000/50000 | Loss: 1.7614296354653094\n",
      "Epoch: 1 |  Batch: 29000/50000 | Loss: 1.7555878881071514\n",
      "Epoch: 1 |  Batch: 30000/50000 | Loss: 1.748542634678758\n",
      "Epoch: 1 |  Batch: 31000/50000 | Loss: 1.7425704566001523\n",
      "Epoch: 1 |  Batch: 32000/50000 | Loss: 1.7376859166903318\n",
      "Epoch: 1 |  Batch: 33000/50000 | Loss: 1.7322224176046832\n",
      "Epoch: 1 |  Batch: 34000/50000 | Loss: 1.7272612441311122\n",
      "Epoch: 1 |  Batch: 35000/50000 | Loss: 1.7220626753895156\n",
      "Epoch: 1 |  Batch: 36000/50000 | Loss: 1.7173573409805811\n",
      "Epoch: 1 |  Batch: 37000/50000 | Loss: 1.712090643503956\n",
      "Epoch: 1 |  Batch: 38000/50000 | Loss: 1.7101654778993456\n",
      "Epoch: 1 |  Batch: 39000/50000 | Loss: 1.7072776535662344\n",
      "Epoch: 1 |  Batch: 40000/50000 | Loss: 1.70357553734023\n",
      "Epoch: 1 |  Batch: 41000/50000 | Loss: 1.6990945390712247\n",
      "Epoch: 1 |  Batch: 42000/50000 | Loss: 1.6954734653014691\n",
      "Epoch: 1 |  Batch: 43000/50000 | Loss: 1.691607833684169\n",
      "Epoch: 1 |  Batch: 44000/50000 | Loss: 1.6895062484996781\n",
      "Epoch: 1 |  Batch: 45000/50000 | Loss: 1.6867270305986193\n",
      "Epoch: 1 |  Batch: 46000/50000 | Loss: 1.6848409764233105\n",
      "Epoch: 1 |  Batch: 47000/50000 | Loss: 1.6820218610754265\n",
      "Epoch: 1 |  Batch: 48000/50000 | Loss: 1.6792662315170412\n",
      "Epoch: 1 |  Batch: 49000/50000 | Loss: 1.6760079296766297\n",
      "Epoch: 1 |  Batch: 50000/50000 | Loss: 1.6737002072436888\n",
      "Epoch: 2 |  Batch: 1000/50000 | Loss: 1.5553494268610775\n",
      "Epoch: 2 |  Batch: 2000/50000 | Loss: 1.5027140527006542\n",
      "Epoch: 2 |  Batch: 3000/50000 | Loss: 1.4980644380060106\n",
      "Epoch: 2 |  Batch: 4000/50000 | Loss: 1.5137573087761442\n",
      "Epoch: 2 |  Batch: 5000/50000 | Loss: 1.5213813156309564\n",
      "Epoch: 2 |  Batch: 6000/50000 | Loss: 1.5142350744574744\n",
      "Epoch: 2 |  Batch: 7000/50000 | Loss: 1.513462873779899\n",
      "Epoch: 2 |  Batch: 8000/50000 | Loss: 1.5112029254154518\n",
      "Epoch: 2 |  Batch: 9000/50000 | Loss: 1.5042857399701448\n",
      "Epoch: 2 |  Batch: 10000/50000 | Loss: 1.5074510945075617\n",
      "Epoch: 2 |  Batch: 11000/50000 | Loss: 1.5112073599565579\n",
      "Epoch: 2 |  Batch: 12000/50000 | Loss: 1.507915891709078\n",
      "Epoch: 2 |  Batch: 13000/50000 | Loss: 1.511674248242182\n",
      "Epoch: 2 |  Batch: 14000/50000 | Loss: 1.5093166199530454\n",
      "Epoch: 2 |  Batch: 15000/50000 | Loss: 1.5072992201069395\n",
      "Epoch: 2 |  Batch: 16000/50000 | Loss: 1.506921737855881\n",
      "Epoch: 2 |  Batch: 17000/50000 | Loss: 1.508372820033764\n",
      "Epoch: 2 |  Batch: 18000/50000 | Loss: 1.509718932471138\n",
      "Epoch: 2 |  Batch: 19000/50000 | Loss: 1.509541251109518\n",
      "Epoch: 2 |  Batch: 20000/50000 | Loss: 1.509941545674046\n",
      "Epoch: 2 |  Batch: 21000/50000 | Loss: 1.5083010969148167\n",
      "Epoch: 2 |  Batch: 22000/50000 | Loss: 1.5079669002420715\n",
      "Epoch: 2 |  Batch: 23000/50000 | Loss: 1.5061029411708893\n",
      "Epoch: 2 |  Batch: 24000/50000 | Loss: 1.5067426343604196\n",
      "Epoch: 2 |  Batch: 25000/50000 | Loss: 1.507074040211009\n",
      "Epoch: 2 |  Batch: 26000/50000 | Loss: 1.508012798649714\n",
      "Epoch: 2 |  Batch: 27000/50000 | Loss: 1.505468748607834\n",
      "Epoch: 2 |  Batch: 28000/50000 | Loss: 1.5054722650927284\n",
      "Epoch: 2 |  Batch: 29000/50000 | Loss: 1.5071905882243395\n",
      "Epoch: 2 |  Batch: 30000/50000 | Loss: 1.5066783102541785\n",
      "Epoch: 2 |  Batch: 31000/50000 | Loss: 1.5067829535634574\n",
      "Epoch: 2 |  Batch: 32000/50000 | Loss: 1.5057521842699582\n",
      "Epoch: 2 |  Batch: 33000/50000 | Loss: 1.507060110418103\n",
      "Epoch: 2 |  Batch: 34000/50000 | Loss: 1.5068602828658562\n",
      "Epoch: 2 |  Batch: 35000/50000 | Loss: 1.5051274837442807\n",
      "Epoch: 2 |  Batch: 36000/50000 | Loss: 1.50426162769706\n",
      "Epoch: 2 |  Batch: 37000/50000 | Loss: 1.5039469423118914\n",
      "Epoch: 2 |  Batch: 38000/50000 | Loss: 1.5048012381047038\n",
      "Epoch: 2 |  Batch: 39000/50000 | Loss: 1.5033088200221651\n",
      "Epoch: 2 |  Batch: 40000/50000 | Loss: 1.503404053612434\n",
      "Epoch: 2 |  Batch: 41000/50000 | Loss: 1.5033614895832448\n",
      "Epoch: 2 |  Batch: 42000/50000 | Loss: 1.5035232638619427\n",
      "Epoch: 2 |  Batch: 43000/50000 | Loss: 1.5032161914065234\n",
      "Epoch: 2 |  Batch: 44000/50000 | Loss: 1.5025304150594754\n",
      "Epoch: 2 |  Batch: 45000/50000 | Loss: 1.503816611277237\n",
      "Epoch: 2 |  Batch: 46000/50000 | Loss: 1.5041992288781192\n",
      "Epoch: 2 |  Batch: 47000/50000 | Loss: 1.5033587708262013\n",
      "Epoch: 2 |  Batch: 48000/50000 | Loss: 1.5037351835005606\n",
      "Epoch: 2 |  Batch: 49000/50000 | Loss: 1.5039718153510488\n",
      "Epoch: 2 |  Batch: 50000/50000 | Loss: 1.5035874508672178\n",
      "Epoch: 3 |  Batch: 1000/50000 | Loss: 1.4464340175247634\n",
      "Epoch: 3 |  Batch: 2000/50000 | Loss: 1.4377992836984312\n",
      "Epoch: 3 |  Batch: 3000/50000 | Loss: 1.4353391544275733\n",
      "Epoch: 3 |  Batch: 4000/50000 | Loss: 1.4401562457505448\n",
      "Epoch: 3 |  Batch: 5000/50000 | Loss: 1.4415515290197032\n",
      "Epoch: 3 |  Batch: 6000/50000 | Loss: 1.4369972860668825\n",
      "Epoch: 3 |  Batch: 7000/50000 | Loss: 1.4317372280928493\n",
      "Epoch: 3 |  Batch: 8000/50000 | Loss: 1.4385259162011192\n",
      "Epoch: 3 |  Batch: 9000/50000 | Loss: 1.435941771205576\n",
      "Epoch: 3 |  Batch: 10000/50000 | Loss: 1.440976931671294\n",
      "Epoch: 3 |  Batch: 11000/50000 | Loss: 1.4408025943440959\n",
      "Epoch: 3 |  Batch: 12000/50000 | Loss: 1.4372464616640246\n",
      "Epoch: 3 |  Batch: 13000/50000 | Loss: 1.4411284557033786\n",
      "Epoch: 3 |  Batch: 14000/50000 | Loss: 1.4411385684541924\n",
      "Epoch: 3 |  Batch: 15000/50000 | Loss: 1.441160487883131\n",
      "Epoch: 3 |  Batch: 16000/50000 | Loss: 1.44497658328431\n",
      "Epoch: 3 |  Batch: 17000/50000 | Loss: 1.4441298084334824\n",
      "Epoch: 3 |  Batch: 18000/50000 | Loss: 1.4424685686715855\n",
      "Epoch: 3 |  Batch: 19000/50000 | Loss: 1.4433945195406863\n",
      "Epoch: 3 |  Batch: 20000/50000 | Loss: 1.4423322829294503\n",
      "Epoch: 3 |  Batch: 21000/50000 | Loss: 1.4445222674052929\n",
      "Epoch: 3 |  Batch: 22000/50000 | Loss: 1.446869754308714\n",
      "Epoch: 3 |  Batch: 23000/50000 | Loss: 1.4474301039103186\n",
      "Epoch: 3 |  Batch: 24000/50000 | Loss: 1.448745754442506\n",
      "Epoch: 3 |  Batch: 25000/50000 | Loss: 1.4501423806933775\n",
      "Epoch: 3 |  Batch: 26000/50000 | Loss: 1.4504460141308135\n",
      "Epoch: 3 |  Batch: 27000/50000 | Loss: 1.4514250828434185\n",
      "Epoch: 3 |  Batch: 28000/50000 | Loss: 1.4516568968937997\n",
      "Epoch: 3 |  Batch: 29000/50000 | Loss: 1.4536453969268635\n",
      "Epoch: 3 |  Batch: 30000/50000 | Loss: 1.455667948927374\n",
      "Epoch: 3 |  Batch: 31000/50000 | Loss: 1.4570205509427463\n",
      "Epoch: 3 |  Batch: 32000/50000 | Loss: 1.4566789719485953\n",
      "Epoch: 3 |  Batch: 33000/50000 | Loss: 1.458222598206865\n",
      "Epoch: 3 |  Batch: 34000/50000 | Loss: 1.4593174016152233\n",
      "Epoch: 3 |  Batch: 35000/50000 | Loss: 1.4572553077471253\n",
      "Epoch: 3 |  Batch: 36000/50000 | Loss: 1.4585506836911803\n",
      "Epoch: 3 |  Batch: 37000/50000 | Loss: 1.4580131248325652\n",
      "Epoch: 3 |  Batch: 38000/50000 | Loss: 1.460763242133687\n",
      "Epoch: 3 |  Batch: 39000/50000 | Loss: 1.4639148606891377\n",
      "Epoch: 3 |  Batch: 40000/50000 | Loss: 1.4649558480863325\n",
      "Epoch: 3 |  Batch: 41000/50000 | Loss: 1.4658086320148536\n",
      "Epoch: 3 |  Batch: 42000/50000 | Loss: 1.46735722416116\n",
      "Epoch: 3 |  Batch: 43000/50000 | Loss: 1.4675232486370084\n",
      "Epoch: 3 |  Batch: 44000/50000 | Loss: 1.4678315483034012\n",
      "Epoch: 3 |  Batch: 45000/50000 | Loss: 1.4662647792207433\n",
      "Epoch: 3 |  Batch: 46000/50000 | Loss: 1.4662848101696633\n",
      "Epoch: 3 |  Batch: 47000/50000 | Loss: 1.4668956562035804\n",
      "Epoch: 3 |  Batch: 48000/50000 | Loss: 1.4675630839590479\n",
      "Epoch: 3 |  Batch: 49000/50000 | Loss: 1.4685204661716522\n",
      "Epoch: 3 |  Batch: 50000/50000 | Loss: 1.4690454560048734\n",
      "Epoch: 4 |  Batch: 1000/50000 | Loss: 1.376480686701856\n",
      "Epoch: 4 |  Batch: 2000/50000 | Loss: 1.4194368201073049\n",
      "Epoch: 4 |  Batch: 3000/50000 | Loss: 1.4262128016334636\n",
      "Epoch: 4 |  Batch: 4000/50000 | Loss: 1.4187000491120871\n",
      "Epoch: 4 |  Batch: 5000/50000 | Loss: 1.4138107930825625\n",
      "Epoch: 4 |  Batch: 6000/50000 | Loss: 1.4190994227195382\n",
      "Epoch: 4 |  Batch: 7000/50000 | Loss: 1.420460716792205\n",
      "Epoch: 4 |  Batch: 8000/50000 | Loss: 1.4253685840452988\n",
      "Epoch: 4 |  Batch: 9000/50000 | Loss: 1.4223038647817428\n",
      "Epoch: 4 |  Batch: 10000/50000 | Loss: 1.4302056612717653\n",
      "Epoch: 4 |  Batch: 11000/50000 | Loss: 1.434330612832574\n",
      "Epoch: 4 |  Batch: 12000/50000 | Loss: 1.4356425078715909\n",
      "Epoch: 4 |  Batch: 13000/50000 | Loss: 1.4349806186873528\n",
      "Epoch: 4 |  Batch: 14000/50000 | Loss: 1.4337218644831347\n",
      "Epoch: 4 |  Batch: 15000/50000 | Loss: 1.4351539543934326\n",
      "Epoch: 4 |  Batch: 16000/50000 | Loss: 1.4356725226058102\n",
      "Epoch: 4 |  Batch: 17000/50000 | Loss: 1.4400838733320083\n",
      "Epoch: 4 |  Batch: 18000/50000 | Loss: 1.440245195082424\n",
      "Epoch: 4 |  Batch: 19000/50000 | Loss: 1.4392584519319858\n",
      "Epoch: 4 |  Batch: 20000/50000 | Loss: 1.4388737882562561\n",
      "Epoch: 4 |  Batch: 21000/50000 | Loss: 1.4402094540724715\n",
      "Epoch: 4 |  Batch: 22000/50000 | Loss: 1.4407392199132933\n",
      "Epoch: 4 |  Batch: 23000/50000 | Loss: 1.4427363677553557\n",
      "Epoch: 4 |  Batch: 24000/50000 | Loss: 1.4472860735872448\n",
      "Epoch: 4 |  Batch: 25000/50000 | Loss: 1.4475448510738913\n",
      "Epoch: 4 |  Batch: 26000/50000 | Loss: 1.446718387298627\n",
      "Epoch: 4 |  Batch: 27000/50000 | Loss: 1.447108307514583\n",
      "Epoch: 4 |  Batch: 28000/50000 | Loss: 1.4462451616406453\n",
      "Epoch: 4 |  Batch: 29000/50000 | Loss: 1.4446849903713388\n",
      "Epoch: 4 |  Batch: 30000/50000 | Loss: 1.4425336870268255\n",
      "Epoch: 4 |  Batch: 31000/50000 | Loss: 1.4439811507875795\n",
      "Epoch: 4 |  Batch: 32000/50000 | Loss: 1.4445276912600706\n",
      "Epoch: 4 |  Batch: 33000/50000 | Loss: 1.4442768655220866\n",
      "Epoch: 4 |  Batch: 34000/50000 | Loss: 1.4424286681960605\n",
      "Epoch: 4 |  Batch: 35000/50000 | Loss: 1.4445321365483803\n",
      "Epoch: 4 |  Batch: 36000/50000 | Loss: 1.4459027304308312\n",
      "Epoch: 4 |  Batch: 37000/50000 | Loss: 1.4461330009700146\n",
      "Epoch: 4 |  Batch: 38000/50000 | Loss: 1.4477651379260406\n",
      "Epoch: 4 |  Batch: 39000/50000 | Loss: 1.4478269037747893\n",
      "Epoch: 4 |  Batch: 40000/50000 | Loss: 1.4471767692114321\n",
      "Epoch: 4 |  Batch: 41000/50000 | Loss: 1.4479061633506194\n",
      "Epoch: 4 |  Batch: 42000/50000 | Loss: 1.4479727222628056\n",
      "Epoch: 4 |  Batch: 43000/50000 | Loss: 1.4489842359474507\n",
      "Epoch: 4 |  Batch: 44000/50000 | Loss: 1.448984371866694\n",
      "Epoch: 4 |  Batch: 45000/50000 | Loss: 1.4497364045706218\n",
      "Epoch: 4 |  Batch: 46000/50000 | Loss: 1.4504698500148456\n",
      "Epoch: 4 |  Batch: 47000/50000 | Loss: 1.4503129379161095\n",
      "Epoch: 4 |  Batch: 48000/50000 | Loss: 1.4502384205818937\n",
      "Epoch: 4 |  Batch: 49000/50000 | Loss: 1.450982017383963\n",
      "Epoch: 4 |  Batch: 50000/50000 | Loss: 1.4516492893883042\n"
     ]
    }
   ],
   "source": [
    "for epoch in range(EPOCHS):\n",
    "    running_loss = 0.0\n",
    "    total_examples = 0\n",
    "    for i, data in enumerate(train_dl):\n",
    "        inputs, labels = data\n",
    "        optimiser.zero_grad()\n",
    "\n",
    "        inputs = inputs.to(DEVICE)\n",
    "        labels = labels.to(DEVICE)\n",
    "\n",
    "        output = model(inputs)\n",
    "\n",
    "        loss = criterion(output, labels)\n",
    "\n",
    "        loss.backward()\n",
    "        optimiser.step()\n",
    "\n",
    "        running_loss += loss.item()\n",
    "        total_examples += len(labels)\n",
    "\n",
    "        if (i % PRINT_INTERVAL == (PRINT_INTERVAL - 1)) or (i == num_train_batches - 1):\n",
    "            print(f\"Epoch: {epoch + 1} |  Batch: {i + 1}/{num_train_batches} | Loss: {running_loss / total_examples}\")"
   ]
  },
  {
   "cell_type": "code",
   "execution_count": 12,
   "metadata": {},
   "outputs": [],
   "source": [
    "os.makedirs(MODEL_SAVE_DIR, exist_ok=True)\n",
    "model_path = f\"{MODEL_SAVE_DIR}/cifar_net.pth\"\n",
    "torch.save(model.state_dict(), model_path)"
   ]
  },
  {
   "cell_type": "code",
   "execution_count": 13,
   "metadata": {},
   "outputs": [
    {
     "data": {
      "image/png": "[encoded data removed]",
      "text/plain": [
       "<Figure size 640x480 with 1 Axes>"
      ]
     },
     "metadata": {},
     "output_type": "display_data"
    },
    {
     "name": "stdout",
     "output_type": "stream",
     "text": [
      "Ground truth: cat  \n"
     ]
    }
   ],
   "source": [
    "data_iter = iter(test_dl)\n",
    "images, labels = next(data_iter)\n",
    "imshow(torchvision.utils.make_grid(images))\n",
    "print(f\"Ground truth: {', '.join(f'{classes[labels[j]]:5s}' for j in range(BATCH_SIZE))}\")"
   ]
  },
  {
   "cell_type": "code",
   "execution_count": 14,
   "metadata": {},
   "outputs": [
    {
     "data": {
      "text/plain": [
       "BaseNet(\n",
       "  (conv1): Conv2d(3, 6, kernel_size=(5, 5), stride=(1, 1))\n",
       "  (pool): MaxPool2d(kernel_size=2, stride=2, padding=0, dilation=1, ceil_mode=False)\n",
       "  (conv2): Conv2d(6, 16, kernel_size=(5, 5), stride=(1, 1))\n",
       "  (fc1): Linear(in_features=400, out_features=120, bias=True)\n",
       "  (fc2): Linear(in_features=120, out_features=84, bias=True)\n",
       "  (fc3): Linear(in_features=84, out_features=10, bias=True)\n",
       ")"
      ]
     },
     "execution_count": 14,
     "metadata": {},
     "output_type": "execute_result"
    }
   ],
   "source": [
    "saved_model = BaseNet()\n",
    "saved_model.load_state_dict(torch.load(model_path))\n",
    "saved_model.to(DEVICE)"
   ]
  },
  {
   "cell_type": "code",
   "execution_count": 15,
   "metadata": {},
   "outputs": [],
   "source": [
    "output = saved_model(images.to(DEVICE))\n",
    "_, predicted = torch.max(output, 1)"
   ]
  },
  {
   "cell_type": "code",
   "execution_count": 16,
   "metadata": {},
   "outputs": [
    {
     "name": "stdout",
     "output_type": "stream",
     "text": [
      "Predictions: cat  \n"
     ]
    }
   ],
   "source": [
    "print(f\"Predictions: {', '.join(f'{classes[predicted[j]]:5s}' for j in range(BATCH_SIZE))}\")"
   ]
  },
  {
   "cell_type": "code",
   "execution_count": 17,
   "metadata": {},
   "outputs": [
    {
     "name": "stdout",
     "output_type": "stream",
     "text": [
      "Accuracy of plane: 20.300%\n",
      "Accuracy of car  : 37.400%\n",
      "Accuracy of bird : 52.100%\n",
      "Accuracy of cat  : 18.500%\n",
      "Accuracy of deer : 24.400%\n",
      "Accuracy of dog  : 51.700%\n",
      "Accuracy of frog : 61.800%\n",
      "Accuracy of horse: 59.800%\n",
      "Accuracy of ship : 76.000%\n",
      "Accuracy of truck: 63.800%\n"
     ]
    }
   ],
   "source": [
    "correct_pred = {class_name: 0 for class_name in classes}\n",
    "total = {class_name: 0 for class_name in classes}\n",
    "\n",
    "saved_model.eval()\n",
    "\n",
    "with torch.no_grad():\n",
    "    for data in test_dl:\n",
    "        images, labels = data\n",
    "\n",
    "        images = images.to(DEVICE)\n",
    "        labels = labels.to(DEVICE)\n",
    "\n",
    "        output = saved_model(images)\n",
    "\n",
    "        _, predicted = torch.max(output, 1)\n",
    "        \n",
    "        for label, prediction in zip(labels, predicted):\n",
    "            if label == prediction:\n",
    "                correct_pred[classes[label]] += 1\n",
    "            total[classes[label]] += 1\n",
    "\n",
    "for class_name, correct_count in correct_pred.items():\n",
    "    accuracy = 100 * float(correct_count) / total[class_name]\n",
    "    print(f\"Accuracy of {class_name:5s}: {accuracy:.3f}%\")"
   ]
  }
 ],
 "metadata": {
  "kernelspec": {
   "display_name": ".venv",
   "language": "python",
   "name": "python3"
  },
  "language_info": {
   "codemirror_mode": {
    "name": "ipython",
    "version": 3
   },
   "file_extension": ".py",
   "mimetype": "text/x-python",
   "name": "python",
   "nbconvert_exporter": "python",
   "pygments_lexer": "ipython3",
   "version": "3.11.9"
  }
 },
 "nbformat": 4,
 "nbformat_minor": 2
}
