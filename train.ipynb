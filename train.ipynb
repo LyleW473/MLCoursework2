{
 "cells": [
  {
   "cell_type": "code",
   "execution_count": 1,
   "metadata": {},
   "outputs": [],
   "source": [
    "import torch\n",
    "import torchvision\n",
    "import torchvision.transforms as transforms\n",
    "import torch.nn as nn\n",
    "import torch.nn.functional as F\n",
    "import torch.optim as optim\n",
    "import os\n",
    "import matplotlib.pyplot as plt\n",
    "import numpy as np"
   ]
  },
  {
   "cell_type": "code",
   "execution_count": 2,
   "metadata": {},
   "outputs": [],
   "source": [
    "BATCH_SIZE = 4\n",
    "LR = 0.001\n",
    "MOMENTUM = 0.9\n",
    "EPOCHS = 2\n",
    "DEVICE = torch.device(\"cuda:0\" if torch.cuda.is_available() else \"cpu\")\n",
    "PRINT_INTERVAL = 1000\n",
    "\n",
    "MODEL_SAVE_DIR = \"models\""
   ]
  },
  {
   "cell_type": "code",
   "execution_count": 3,
   "metadata": {},
   "outputs": [],
   "source": [
    "transform = transforms.Compose(\n",
    "    [\n",
    "        transforms.ToTensor(),\n",
    "        transforms.Normalize((0.5, 0.5, 0.5), (0.5, 0.5, 0.5))\n",
    "    ]\n",
    ")\n",
    "\n",
    "train_set = torchvision.datasets.CIFAR10(root=\"./data\", train=True, download=True, transform=transform)\n",
    "train_dl = torch.utils.data.DataLoader(train_set, batch_size=BATCH_SIZE, shuffle=True, num_workers=2)\n",
    "test_set = torchvision.datasets.CIFAR10(root=\"./data\", train=False, download=True, transform=transform)\n",
    "test_dl = torch.utils.data.DataLoader(test_set, batch_size=BATCH_SIZE, shuffle=False, num_workers=2)\n",
    "\n",
    "classes = (\"plane\", \"car\", \"bird\", \"cat\", \"deer\", \"dog\", \"frog\", \"horse\", \"ship\", \"truck\")"
   ]
  },
  {
   "cell_type": "code",
   "execution_count": 4,
   "metadata": {},
   "outputs": [
    {
     "name": "stdout",
     "output_type": "stream",
     "text": [
      "12500\n",
      "2500\n"
     ]
    }
   ],
   "source": [
    "print(len(train_dl))\n",
    "print(len(test_dl))"
   ]
  },
  {
   "cell_type": "code",
   "execution_count": 5,
   "metadata": {},
   "outputs": [
    {
     "data": {
      "image/png": "[encoded data removed]",
      "text/plain": [
       "<Figure size 640x480 with 1 Axes>"
      ]
     },
     "metadata": {},
     "output_type": "display_data"
    },
    {
     "name": "stdout",
     "output_type": "stream",
     "text": [
      "plane ship  plane bird \n"
     ]
    }
   ],
   "source": [
    "def imshow(img):\n",
    "    img = img / 2 + 0.5 # Unnormalize\n",
    "    np_img = img.numpy()\n",
    "    plt.imshow(np.transpose(np_img, (1, 2, 0)))\n",
    "    plt.show()\n",
    "\n",
    "data_iter = iter(train_dl)\n",
    "images, labels = next(data_iter)\n",
    "\n",
    "imshow(torchvision.utils.make_grid(images))\n",
    "print(\" \".join(f\"{classes[labels[j]]:5s}\" for j in range(BATCH_SIZE)))"
   ]
  },
  {
   "cell_type": "code",
   "execution_count": 6,
   "metadata": {},
   "outputs": [],
   "source": [
    "class BaseNet(nn.Module):\n",
    "    def __init__(self):\n",
    "        super().__init__()\n",
    "        self.conv1 = nn.Conv2d(3, 6, 5)\n",
    "        self.pool = nn.MaxPool2d(2, 2)\n",
    "        self.conv2 = nn.Conv2d(6, 16, 5)\n",
    "        self.fc1 = nn.Linear(16 * 5 * 5, 120)\n",
    "        self.fc2 = nn.Linear(120, 84)\n",
    "        self.fc3 = nn.Linear(84, 10)\n",
    "\n",
    "    def forward(self, x):\n",
    "        x = self.pool(F.relu(self.conv1(x)))\n",
    "        x = self.pool(F.relu(self.conv2(x)))\n",
    "        x = torch.flatten(x, 1) # Flatten all dimensions except batch\n",
    "        x = F.relu(self.fc1(x))\n",
    "        x = F.relu(self.fc2(x))\n",
    "        x = self.fc3(x)\n",
    "        return x"
   ]
  },
  {
   "cell_type": "code",
   "execution_count": 7,
   "metadata": {},
   "outputs": [
    {
     "data": {
      "text/plain": [
       "BaseNet(\n",
       "  (conv1): Conv2d(3, 6, kernel_size=(5, 5), stride=(1, 1))\n",
       "  (pool): MaxPool2d(kernel_size=2, stride=2, padding=0, dilation=1, ceil_mode=False)\n",
       "  (conv2): Conv2d(6, 16, kernel_size=(5, 5), stride=(1, 1))\n",
       "  (fc1): Linear(in_features=400, out_features=120, bias=True)\n",
       "  (fc2): Linear(in_features=120, out_features=84, bias=True)\n",
       "  (fc3): Linear(in_features=84, out_features=10, bias=True)\n",
       ")"
      ]
     },
     "execution_count": 7,
     "metadata": {},
     "output_type": "execute_result"
    }
   ],
   "source": [
    "model = BaseNet()\n",
    "model.to(DEVICE)"
   ]
  },
  {
   "cell_type": "code",
   "execution_count": 8,
   "metadata": {},
   "outputs": [],
   "source": [
    "criterion = nn.CrossEntropyLoss()\n",
    "optimiser = optim.SGD(model.parameters(), lr=LR, momentum=MOMENTUM)"
   ]
  },
  {
   "cell_type": "code",
   "execution_count": 9,
   "metadata": {},
   "outputs": [
    {
     "name": "stdout",
     "output_type": "stream",
     "text": [
      "12500 2500\n"
     ]
    }
   ],
   "source": [
    "print(len(train_dl), len(test_dl))"
   ]
  },
  {
   "cell_type": "code",
   "execution_count": 10,
   "metadata": {},
   "outputs": [],
   "source": [
    "num_train_batches = len(train_dl)"
   ]
  },
  {
   "cell_type": "code",
   "execution_count": 11,
   "metadata": {},
   "outputs": [
    {
     "name": "stdout",
     "output_type": "stream",
     "text": [
      "Epoch: 1 |  Batch: 1000/12500 | Loss: 0.5743332543373108\n",
      "Epoch: 1 |  Batch: 2000/12500 | Loss: 0.5551245209872723\n",
      "Epoch: 1 |  Batch: 3000/12500 | Loss: 0.5286187710066637\n",
      "Epoch: 1 |  Batch: 4000/12500 | Loss: 0.5056212217770517\n",
      "Epoch: 1 |  Batch: 5000/12500 | Loss: 0.4885281589090824\n",
      "Epoch: 1 |  Batch: 6000/12500 | Loss: 0.47560906927163404\n",
      "Epoch: 1 |  Batch: 7000/12500 | Loss: 0.4642473690286279\n",
      "Epoch: 1 |  Batch: 8000/12500 | Loss: 0.4540769709665328\n",
      "Epoch: 1 |  Batch: 9000/12500 | Loss: 0.4455742501459188\n",
      "Epoch: 1 |  Batch: 10000/12500 | Loss: 0.43847200073376297\n",
      "Epoch: 1 |  Batch: 11000/12500 | Loss: 0.4312836512164636\n",
      "Epoch: 1 |  Batch: 12000/12500 | Loss: 0.42524631943150115\n",
      "Epoch: 1 |  Batch: 12500/12500 | Loss: 0.42249798354774715\n",
      "Epoch: 2 |  Batch: 1000/12500 | Loss: 0.3441909696608782\n",
      "Epoch: 2 |  Batch: 2000/12500 | Loss: 0.34109020195528866\n",
      "Epoch: 2 |  Batch: 3000/12500 | Loss: 0.34073387186477583\n",
      "Epoch: 2 |  Batch: 4000/12500 | Loss: 0.340163967827335\n",
      "Epoch: 2 |  Batch: 5000/12500 | Loss: 0.33905613574646415\n",
      "Epoch: 2 |  Batch: 6000/12500 | Loss: 0.33821191459180167\n",
      "Epoch: 2 |  Batch: 7000/12500 | Loss: 0.33591444142109583\n",
      "Epoch: 2 |  Batch: 8000/12500 | Loss: 0.33406007374404\n",
      "Epoch: 2 |  Batch: 9000/12500 | Loss: 0.3333725341639171\n",
      "Epoch: 2 |  Batch: 10000/12500 | Loss: 0.3322249612653628\n",
      "Epoch: 2 |  Batch: 11000/12500 | Loss: 0.33134879331383854\n",
      "Epoch: 2 |  Batch: 12000/12500 | Loss: 0.330123613473416\n",
      "Epoch: 2 |  Batch: 12500/12500 | Loss: 0.3295387500972301\n"
     ]
    }
   ],
   "source": [
    "for epoch in range(EPOCHS):\n",
    "    running_loss = 0.0\n",
    "\n",
    "    for i, data in enumerate(train_dl):\n",
    "        inputs, labels = data\n",
    "        optimiser.zero_grad()\n",
    "\n",
    "        inputs = inputs.to(DEVICE)\n",
    "        labels = labels.to(DEVICE)\n",
    "\n",
    "        output = model(inputs)\n",
    "\n",
    "        loss = criterion(output, labels)\n",
    "\n",
    "        loss.backward()\n",
    "        optimiser.step()\n",
    "\n",
    "        running_loss += loss.item()\n",
    "\n",
    "        if (i % PRINT_INTERVAL == (PRINT_INTERVAL - 1)) or (i == num_train_batches - 1):\n",
    "            print(f\"Epoch: {epoch + 1} |  Batch: {i + 1}/{num_train_batches} | Loss: {running_loss / ((i + 1) * BATCH_SIZE)}\")"
   ]
  },
  {
   "cell_type": "code",
   "execution_count": 12,
   "metadata": {},
   "outputs": [],
   "source": [
    "os.makedirs(MODEL_SAVE_DIR, exist_ok=True)\n",
    "model_path = f\"{MODEL_SAVE_DIR}/cifar_net.pth\"\n",
    "torch.save(model.state_dict(), model_path)"
   ]
  }
 ],
 "metadata": {
  "kernelspec": {
   "display_name": ".venv",
   "language": "python",
   "name": "python3"
  },
  "language_info": {
   "codemirror_mode": {
    "name": "ipython",
    "version": 3
   },
   "file_extension": ".py",
   "mimetype": "text/x-python",
   "name": "python",
   "nbconvert_exporter": "python",
   "pygments_lexer": "ipython3",
   "version": "3.11.9"
  }
 },
 "nbformat": 4,
 "nbformat_minor": 2
}
